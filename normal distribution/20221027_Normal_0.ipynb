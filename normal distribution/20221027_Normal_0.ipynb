{
 "cells": [
  {
   "cell_type": "code",
   "execution_count": 1,
   "metadata": {},
   "outputs": [],
   "source": [
    "# 27/10/2022 \n",
    "# Autor: Ricardo da Silva Braga (Prof. Braga)\n",
    "# https://github.com/profbraga\n",
    "# Exemplo do uso da biblioteca SciPy para cálculos envolvendo a distribuição Normal.\n",
    "# Maiores informações podem ser encontradas aqui:\n",
    "# https://docs.scipy.org/doc/scipy/reference/generated/scipy.stats.norm.html \n",
    "from scipy.stats import norm"
   ]
  },
  {
   "cell_type": "code",
   "execution_count": 2,
   "metadata": {},
   "outputs": [
    {
     "data": {
      "text/plain": [
       "0.15865525393145707"
      ]
     },
     "execution_count": 2,
     "metadata": {},
     "output_type": "execute_result"
    }
   ],
   "source": [
    "# Distribuição acumulada de probabilidade\n",
    "# norm.cdf(valor de x, média, desvio padrão)\n",
    "norm.cdf(6,8,2)"
   ]
  },
  {
   "cell_type": "code",
   "execution_count": 3,
   "metadata": {},
   "outputs": [
    {
     "data": {
      "text/plain": [
       "0.2388520680899867"
      ]
     },
     "execution_count": 3,
     "metadata": {},
     "output_type": "execute_result"
    }
   ],
   "source": [
    "# Quando a média é 0 e o desvio padrão é 1 temos a normal padronizada\n",
    "norm.cdf(-0.71,0,1)"
   ]
  },
  {
   "cell_type": "code",
   "execution_count": 4,
   "metadata": {},
   "outputs": [
    {
     "data": {
      "text/plain": [
       "0.29673060817193164"
      ]
     },
     "execution_count": 4,
     "metadata": {},
     "output_type": "execute_result"
    }
   ],
   "source": [
    "# Calculando a Normal padronizada quando 0.00 < Z < 0.83 \n",
    "norm.cdf(0.83,0,1) - norm.cdf(0,0,1)"
   ]
  },
  {
   "cell_type": "code",
   "execution_count": 5,
   "metadata": {},
   "outputs": [
    {
     "data": {
      "text/plain": [
       "0.2524925375469229"
      ]
     },
     "execution_count": 5,
     "metadata": {},
     "output_type": "execute_result"
    }
   ],
   "source": [
    "# Calculando a probabilidade de X < 5, quando a média é 6 e o desvio padrão é 1.5 \n",
    "norm.cdf(5,6,1.5)"
   ]
  },
  {
   "cell_type": "code",
   "execution_count": 6,
   "metadata": {},
   "outputs": [
    {
     "data": {
      "text/plain": [
       "0.2524925375469229"
      ]
     },
     "execution_count": 6,
     "metadata": {},
     "output_type": "execute_result"
    }
   ],
   "source": [
    "# Fazendo o equivalente da célula anterior, só que usando a normal padronizada.\n",
    "media = 6\n",
    "desvpad = 1.5\n",
    "x = 5\n",
    "z = (x-media)/desvpad\n",
    "norm.cdf(z,0,1)"
   ]
  }
 ],
 "metadata": {
  "kernelspec": {
   "display_name": "Python 3.10.1 64-bit",
   "language": "python",
   "name": "python3"
  },
  "language_info": {
   "codemirror_mode": {
    "name": "ipython",
    "version": 3
   },
   "file_extension": ".py",
   "mimetype": "text/x-python",
   "name": "python",
   "nbconvert_exporter": "python",
   "pygments_lexer": "ipython3",
   "version": "3.10.1"
  },
  "orig_nbformat": 4,
  "vscode": {
   "interpreter": {
    "hash": "ec2c85709a3cd7d9cd10e278f4db37a6e8ebb0a2b5f3689ebc34b8ff6167e3d5"
   }
  }
 },
 "nbformat": 4,
 "nbformat_minor": 2
}
