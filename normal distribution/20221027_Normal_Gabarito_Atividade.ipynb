{
  "cells": [
    {
      "cell_type": "code",
      "execution_count": 1,
      "metadata": {
        "trusted": true
      },
      "outputs": [],
      "source": [
        "# 27/10/2022\n",
        "# Autor: Ricardo da Silva Braga (Prof. Braga)\n",
        "# https://github.com/profbraga\n",
        "# Gabarito da Atividade de Normal com Python\n",
        "# Maiores informações podem ser encontradas aqui:\n",
        "# https://docs.scipy.org/doc/scipy/reference/generated/scipy.stats.norm.html \n",
        "\n",
        "from scipy.stats import norm\n",
        "import math"
      ]
    },
    {
      "cell_type": "code",
      "execution_count": 2,
      "metadata": {
        "trusted": true
      },
      "outputs": [
        {
          "name": "stdout",
          "output_type": "stream",
          "text": [
            "a. A probabilidade é de 23.89 %.\n",
            "b. A probabilidade é de 29.67 %.\n",
            "c. A probabilidade é de 59.1 %.\n",
            "d. A probabilidade é de 44.18 %.\n",
            "e. A probabilidade é de 88.49 %.\n",
            "f. A probabilidade é de 33.0 %.\n"
          ]
        }
      ],
      "source": [
        "# Gabarito do exercício 1\n",
        "print('a. A probabilidade é de', round(norm.cdf(-0.71,0,1)*100,2),'%.')\n",
        "print('b. A probabilidade é de', round((norm.cdf(0.83,0,1) - norm.cdf(0,0,1))*100,2),'%.')\n",
        "print('c. A probabilidade é de', round((1 - norm.cdf(-0.23,0,1))*100,2),'%.')\n",
        "print('d. A probabilidade é de', round((norm.cdf(0,0,1) - norm.cdf(-1.57,0,1))*100,2),'%.')\n",
        "print('e. A probabilidade é de', round(norm.cdf(1.2,0,1)*100,2),'%.')\n",
        "print('f. A probabilidade é de', round((1 - norm.cdf(0.44,0,1))*100,2),'%.')\n"
      ]
    },
    {
      "cell_type": "code",
      "execution_count": 3,
      "metadata": {},
      "outputs": [
        {
          "name": "stdout",
          "output_type": "stream",
          "text": [
            "a. A probabilidade é de 74.75 %.\n",
            "b. A probabilidade é de 25.25 %.\n",
            "c. A probabilidade é de 22.97 %.\n"
          ]
        }
      ],
      "source": [
        "# Gabarito do Exercício 2\n",
        "print('a. A probabilidade é de', round((1 - norm.cdf(5,6,1.5))*100,2),'%.')\n",
        "print('b. A probabilidade é de', round(norm.cdf(5,6,1.5)*100,2),'%.')\n",
        "print('c. A probabilidade é de', round((norm.cdf(5,6,1.5)-norm.cdf(3,6,1.5))*100,2),'%.')\n"
      ]
    },
    {
      "cell_type": "code",
      "execution_count": 4,
      "metadata": {},
      "outputs": [
        {
          "name": "stdout",
          "output_type": "stream",
          "text": [
            "a. A probabilidade é de 15.87 %.\n",
            "b. A probabilidade é de 63.06 %.\n",
            "c. A probabilidade é de 57.63 %.\n"
          ]
        }
      ],
      "source": [
        "# Gabarito do Exercício 3\n",
        "print('a. A probabilidade é de', round(norm.cdf(550,700,150)*100,2),'%.')\n",
        "print('b. A probabilidade é de', round((1 - norm.cdf(650,700,150))*100,2),'%.')\n",
        "print('c. A probabilidade é de', round((norm.cdf(820,700,150)-norm.cdf(580,700,150))*100,2),'%.')"
      ]
    },
    {
      "cell_type": "code",
      "execution_count": 5,
      "metadata": {},
      "outputs": [
        {
          "name": "stdout",
          "output_type": "stream",
          "text": [
            "a. A probabilidade é de 11.13 %.\n",
            "b. A probabilidade é de 11.13 %.\n",
            "c. O preço deve ser de US$ 40.51 .\n"
          ]
        }
      ],
      "source": [
        "# Gabarito do Exercício 4\n",
        "print('a. A probabilidade é de', round((1 - norm.cdf(40,30,8.20))*100,2),'%.')\n",
        "print('b. A probabilidade é de', round(norm.cdf(20,30,8.20)*100,2),'%.')\n",
        "print('c. O preço deve ser de US$', round(norm.ppf(0.9,30,8.2),2),'.')"
      ]
    },
    {
      "cell_type": "code",
      "execution_count": 6,
      "metadata": {},
      "outputs": [
        {
          "name": "stdout",
          "output_type": "stream",
          "text": [
            "a. Esperamos que passem da ordem de 21 candidatos.\n",
            "b. O Candidato deve fazer em no máximo em 35.33  minutos.\n"
          ]
        }
      ],
      "source": [
        "# Gabarito do Exercício 5\n",
        "print('a. Esperamos que passem da ordem de', math.ceil(norm.cdf(50,60,15)*80),'candidatos.')\n",
        "print('b. O Candidato deve fazer em no máximo em', round(norm.ppf(0.05,60,15),2), ' minutos.')"
      ]
    }
  ],
  "metadata": {
    "kernelspec": {
      "display_name": "Python 3.10.1 64-bit",
      "language": "python",
      "name": "python3"
    },
    "language_info": {
      "codemirror_mode": {
        "name": "ipython",
        "version": 3
      },
      "file_extension": ".py",
      "mimetype": "text/x-python",
      "name": "python",
      "nbconvert_exporter": "python",
      "pygments_lexer": "ipython3",
      "version": "3.10.1"
    },
    "vscode": {
      "interpreter": {
        "hash": "ec2c85709a3cd7d9cd10e278f4db37a6e8ebb0a2b5f3689ebc34b8ff6167e3d5"
      }
    }
  },
  "nbformat": 4,
  "nbformat_minor": 4
}
