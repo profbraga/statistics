{
  "cells": [
    {
      "cell_type": "code",
      "execution_count": 1,
      "metadata": {
        "trusted": true
      },
      "outputs": [],
      "source": [
        "################################################################################\n",
        "## Gabarito - Lista de exercícios de Binomial\n",
        "## Autor : Ricardo da Silva Braga (Prof. Braga)\n",
        "## Data  : 28/10/2022\n",
        "################################################################################\n",
        "\n",
        "################################################################################\n",
        "## Bibliotecas necessárias\n",
        "## Essencialmente vamos usar o scipy e o pandas. \n",
        "## Sobre o scipy, consulte aqui\n",
        "## https://docs.scipy.org/doc/scipy/reference/generated/scipy.stats.binom.html\n",
        "## Sobre o pandas, consulte aqui\n",
        "## https://pandas.pydata.org/\n",
        "################################################################################\n",
        "\n",
        "from scipy.stats import binom\n",
        "import pandas as pd"
      ]
    },
    {
      "cell_type": "code",
      "execution_count": 2,
      "metadata": {},
      "outputs": [
        {
          "name": "stdout",
          "output_type": "stream",
          "text": [
            "    x  f(x)\n",
            "0  20  0.20\n",
            "1  25  0.15\n",
            "2  30  0.25\n",
            "3  35  0.40\n"
          ]
        }
      ],
      "source": [
        "################################################################################\n",
        "## Exercício 1\n",
        "################################################################################\n",
        "\n",
        "# Vamos construir a tabela da distribuição de probabilidades do problema\n",
        "tabela1 = [[20, 0.20], \n",
        "           [25, 0.15],\n",
        "           [30, 0.25],\n",
        "           [35, 0.40]]\n",
        "# Vou associar um dataframe a essa tabela, e usarei o mesmo cabeçalho proposto\n",
        "df_tabela1 = pd.DataFrame(tabela1,columns=['x','f(x)'])\n",
        "# Vou imprimir para dar uma olhada e ver se ficou como no enunciado\n",
        "print(df_tabela1)\n"
      ]
    },
    {
      "cell_type": "code",
      "execution_count": 3,
      "metadata": {},
      "outputs": [
        {
          "name": "stdout",
          "output_type": "stream",
          "text": [
            "1a. A distribuição válida, pois a soma das probabilidades é 1 e não existe termos negativos.\n"
          ]
        }
      ],
      "source": [
        "# Beleza, a tabela ficou igual ao enunciado.\n",
        "# Agora vamos responder o item a. Se a distribuição for válida, a soma\n",
        "# das probabilidades tem que ser 1. Vamos ver e informar ao usuário\n",
        "# Vou criar uma flag para indicar se a distribuição é válida. \n",
        "flag_distribuicao_valida = True\n",
        "# Vamos ver se a soma é 1\n",
        "if df_tabela1['f(x)'].sum() != 1:\n",
        "    flag_distribuicao_valida = False\n",
        "# Agora vou verificar se alguma probabilidade é negativa. Se existir alguma\n",
        "# negativa, a distribuição é inválida\n",
        "for i in df_tabela1['f(x)']:\n",
        "    if i < 0:\n",
        "        flag_distribuicao_valida = False\n",
        "# Pronto, podemos responder o item a\n",
        "if flag_distribuicao_valida:\n",
        "    print('1a. A distribuição válida, pois a soma das probabilidades é 1 e não existe termos negativos.')\n",
        "else:\n",
        "    print('1a. A distribuição é inválida, pois ou a soma das probabilidades não é 1, ou existe algum termo negativos.') \n"
      ]
    },
    {
      "cell_type": "code",
      "execution_count": 4,
      "metadata": {},
      "outputs": [
        {
          "name": "stdout",
          "output_type": "stream",
          "text": [
            "1b. A probabilidade de x ser igual a 30 é: 25.0 %\n",
            "1c. A probabilidade de x ser menor ou igual a 25 é: 35.0 %\n",
            "1d. A probabilidade de x ser maior que 30 é: 40.0 %\n"
          ]
        }
      ],
      "source": [
        "# Agora que o dataframe está redondo, é só filtrar o que os itens pedem\n",
        "print('1b. A probabilidade de x ser igual a 30 é:', \n",
        "        round(df_tabela1.loc[df_tabela1['x']==30,['f(x)']].iloc[0,0],4)*100,'%')\n",
        "#print('1c. A probabilidade de x ser menor ou igual a 25 é:', round(df_tabela1.loc[df_tabela1['x']<=25,['f(x)']].sum(),2)*100,'%')\n",
        "print('1c. A probabilidade de x ser menor ou igual a 25 é:', round(df_tabela1.loc[df_tabela1['x']<=25,['f(x)']].sum()[0]*100,2),'%')\n",
        "print('1d. A probabilidade de x ser maior que 30 é:', round(df_tabela1.loc[df_tabela1['x']>30,['f(x)']].sum()[0]*100,2),'%')\n"
      ]
    },
    {
      "cell_type": "code",
      "execution_count": 5,
      "metadata": {},
      "outputs": [
        {
          "name": "stdout",
          "output_type": "stream",
          "text": [
            "     X  f(x)\n",
            "0 -100  0.10\n",
            "1    0  0.20\n",
            "2   50  0.30\n",
            "3  100  0.25\n",
            "4  150  0.10\n",
            "5  200   NaN\n"
          ]
        }
      ],
      "source": [
        "################################################################################\n",
        "## Exercício 2\n",
        "################################################################################\n",
        "\n",
        "# Vamos construir a tabela da distribuição de probabilidades do problema\n",
        "tabela2 = [[-100, 0.10], \n",
        "           [   0, 0.20],\n",
        "           [  50, 0.30],\n",
        "           [ 100, 0.25],\n",
        "           [ 150, 0.10],\n",
        "           [ 200,     ]]\n",
        "# Vou associar um dataframe a essa tabela, e usarei o mesmo cabeçalho proposto\n",
        "df_tabela2 = pd.DataFrame(tabela2,columns=['X','f(x)'])\n",
        "# Vou imprimir para dar uma olhada e ver se ficou como no enunciado\n",
        "print(df_tabela2)"
      ]
    },
    {
      "cell_type": "code",
      "execution_count": 6,
      "metadata": {},
      "outputs": [
        {
          "name": "stdout",
          "output_type": "stream",
          "text": [
            "2a. O valor adequado para f(200) é: 0.05\n",
            "2b. A probabilidade da MRA ser rentável é: 70.0 %\n",
            "2c. A probabilidade da MRA alcançar pelo menos 100 mil é: 40.0 %\n"
          ]
        }
      ],
      "source": [
        "# Para saber o valor adequado, precisamos que a soma da coluna f(x) seja\n",
        "# igual a 1, logo:\n",
        "valor_f200 = 1-df_tabela2['f(x)'].sum()\n",
        "print('2a. O valor adequado para f(200) é:',round(valor_f200, 2))\n",
        "# Para ser rentável, o lucro tem que ser maior que 0. Logo:\n",
        "print('2b. A probabilidade da MRA ser rentável é:',round((df_tabela2.loc[df_tabela2['X']>0,['f(x)']].sum()[0]+valor_f200)*100 ,2),'%')\n",
        "print('2c. A probabilidade da MRA alcançar pelo menos 100 mil é:',round((df_tabela2.loc[df_tabela2['X']>=100,['f(x)']].sum()[0]+valor_f200)*100 ,2),'%')"
      ]
    },
    {
      "cell_type": "code",
      "execution_count": 7,
      "metadata": {
        "trusted": true
      },
      "outputs": [
        {
          "name": "stdout",
          "output_type": "stream",
          "text": [
            "3a. 48.0 %\n",
            "3b. 36.0 %\n",
            "3c. 16.0 %\n",
            "3d. 64.0 %\n",
            "3e. O valor esperado é 0.8 , a variância é 0.48 e o desvio padrão é 0.69\n"
          ]
        }
      ],
      "source": [
        "################################################################################\n",
        "## Exercício 3\n",
        "################################################################################\n",
        "\n",
        "print('3a.',round(binom.pmf(1, 2, 0.4),2)*100,'%')\n",
        "print('3b.',round(binom.pmf(0, 2, 0.4),2)*100,'%')\n",
        "print('3c.',round(binom.pmf(2, 2, 0.4),2)*100,'%')\n",
        "print('3d.',round(binom.pmf(1, 2, 0.4) + binom.pmf(2, 2, 0.4),2)*100,'%')\n",
        "print('3e. O valor esperado é',round(binom.mean(2, 0.4),2),\n",
        "      ', a variância é',round(binom.var(2, 0.4),2),\n",
        "      'e o desvio padrão é',round(binom.std(2, 0.4),2))"
      ]
    },
    {
      "cell_type": "code",
      "execution_count": 8,
      "metadata": {
        "trusted": true
      },
      "outputs": [
        {
          "name": "stdout",
          "output_type": "stream",
          "text": [
            "4a. 16.41 %\n",
            "4b. 0.781 %\n",
            "4c. 16.41 %\n"
          ]
        }
      ],
      "source": [
        "################################################################################\n",
        "## Exercício 4\n",
        "################################################################################\n",
        "\n",
        "print('4a.',round(binom.pmf(2, 7, 0.5),4)*100,'%')\n",
        "print('4b.',round(binom.pmf(7, 7, 0.5),5)*100,'%')\n",
        "print('4c.',round(binom.pmf(5, 7, 0.5),4)*100,'%')\n"
      ]
    },
    {
      "cell_type": "code",
      "execution_count": 9,
      "metadata": {
        "trusted": true
      },
      "outputs": [
        {
          "name": "stdout",
          "output_type": "stream",
          "text": [
            "5a. 6.34 %\n",
            "5b. 6.34 %\n",
            "5c. 97.3 %\n"
          ]
        }
      ],
      "source": [
        "################################################################################\n",
        "## Exercício 5\n",
        "################################################################################\n",
        "\n",
        "print('5a.',round(binom.pmf(3, 15, 0.4),4)*100,'%')\n",
        "print('5b.',round(binom.pmf(12, 15, 0.6),4)*100,'%')\n",
        "print('5c.',round(1 - binom.pmf(0, 15, 0.4) - binom.pmf(1, 15, 0.4) - binom.pmf(2, 15, 0.4),3)*100,'%')\n"
      ]
    },
    {
      "cell_type": "code",
      "execution_count": 10,
      "metadata": {
        "trusted": true
      },
      "outputs": [
        {
          "name": "stdout",
          "output_type": "stream",
          "text": [
            "6. O valor esperado é 21.6 , a variância é 6.05 e o desvio padrao é 2.46\n"
          ]
        }
      ],
      "source": [
        "################################################################################\n",
        "## Exercício 6\n",
        "################################################################################\n",
        "print('6. O valor esperado é', round(binom.mean(30, 0.72),2),\n",
        "      ', a variância é'      , round(binom.var (30, 0.72),2),\n",
        "      'e o desvio padrao é'  , round(binom.std (30, 0.72),2))"
      ]
    },
    {
      "cell_type": "code",
      "execution_count": 11,
      "metadata": {
        "trusted": true
      },
      "outputs": [
        {
          "name": "stdout",
          "output_type": "stream",
          "text": [
            "7b. 17.14 %\n",
            "7c. 38.9 %\n",
            "7d. 5.4 %\n"
          ]
        }
      ],
      "source": [
        "################################################################################\n",
        "## Exercício 7\n",
        "################################################################################\n",
        "\n",
        "# A) Sim, é um experimento binomial pois é uma distribuição de probabilidade discreta do número de sucessos numa sequência de n tentativas.\n",
        "print('7b.',round(binom.pmf(2, 10, 0.09),4)*100,'%')\n",
        "print('7c.',round(binom.pmf(0, 10, 0.09),3)*100,'%')\n",
        "print('7d.',round(1 - binom.pmf(0, 10, 0.09) - binom.pmf(1, 10, 0.09) - binom.pmf(2, 10, 0.09),4)*100,'%')"
      ]
    },
    {
      "cell_type": "code",
      "execution_count": 12,
      "metadata": {
        "trusted": true
      },
      "outputs": [
        {
          "name": "stdout",
          "output_type": "stream",
          "text": [
            "8a. 0.24 %\n",
            "8b. 83.19 %\n"
          ]
        }
      ],
      "source": [
        "################################################################################\n",
        "## Exercício 8\n",
        "################################################################################\n",
        "\n",
        "print('8a.',round(binom.pmf(5, 5, 0.3),4)*100,'%')\n",
        "print('8b.',round(1 - binom.pmf(0, 5, 0.3),4)*100,'%')\n"
      ]
    },
    {
      "cell_type": "code",
      "execution_count": 13,
      "metadata": {
        "trusted": true
      },
      "outputs": [
        {
          "name": "stdout",
          "output_type": "stream",
          "text": [
            "9a. 5.47 %\n",
            "9b. 20.51 %\n",
            "9c. 82.812 %\n",
            "9d. O valor esperado é 5.0 a variância é 2.5 e o desvio padrão é 1.58\n"
          ]
        }
      ],
      "source": [
        "################################################################################\n",
        "## Exercício 9\n",
        "################################################################################\n",
        "print('9a.',round(binom.pmf(0, 10, 0.5) + binom.pmf(1, 10, 0.5)+binom.pmf(2, 10, 0.5),4)*100,'%')\n",
        "print('9b.',round(binom.pmf(4, 10, 0.5),4)*100,'%')\n",
        "print('9c.',round(1 - binom.pmf(0, 10, 0.5)-binom.pmf(1, 10, 0.5)-binom.pmf(2, 10, 0.5)-binom.pmf(3, 10, 0.5),5)*100,'%')\n",
        "print('9d. O valor esperado é',round(binom.mean(10, 0.5),2),\n",
        "'a variância é',round(binom.var(10, 0.5),2),\n",
        "'e o desvio padrão é',round(binom.std(10, 0.5),2))"
      ]
    }
  ],
  "metadata": {
    "kernelspec": {
      "display_name": "Python 3.10.1 64-bit",
      "language": "python",
      "name": "python3"
    },
    "language_info": {
      "codemirror_mode": {
        "name": "ipython",
        "version": 3
      },
      "file_extension": ".py",
      "mimetype": "text/x-python",
      "name": "python",
      "nbconvert_exporter": "python",
      "pygments_lexer": "ipython3",
      "version": "3.10.1"
    },
    "vscode": {
      "interpreter": {
        "hash": "ec2c85709a3cd7d9cd10e278f4db37a6e8ebb0a2b5f3689ebc34b8ff6167e3d5"
      }
    }
  },
  "nbformat": 4,
  "nbformat_minor": 4
}
